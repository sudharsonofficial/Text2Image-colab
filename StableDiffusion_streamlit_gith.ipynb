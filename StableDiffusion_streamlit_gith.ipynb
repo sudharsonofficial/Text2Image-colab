{
  "nbformat": 4,
  "nbformat_minor": 0,
  "metadata": {
    "colab": {
      "provenance": [],
      "authorship_tag": "ABX9TyNe2zysydVzbH8Tfcq8h451",
      "include_colab_link": true
    },
    "kernelspec": {
      "name": "python3",
      "display_name": "Python 3"
    },
    "language_info": {
      "name": "python"
    },
    "accelerator": "GPU",
    "gpuClass": "standard"
  },
  "cells": [
    {
      "cell_type": "markdown",
      "metadata": {
        "id": "view-in-github",
        "colab_type": "text"
      },
      "source": [
        "<a href=\"https://colab.research.google.com/github/sudharsonofficial/Text2Image-colab/blob/main/StableDiffusion_streamlit_gith.ipynb\" target=\"_parent\"><img src=\"https://colab.research.google.com/assets/colab-badge.svg\" alt=\"Open In Colab\"/></a>"
      ]
    },
    {
      "cell_type": "code",
      "source": [
        "!pip install protobuf==3.20"
      ],
      "metadata": {
        "colab": {
          "base_uri": "https://localhost:8080/"
        },
        "id": "AOu5VlP1mFiD",
        "outputId": "0cfe6a1d-8d64-4f5f-e148-2becbb589eaf"
      },
      "execution_count": null,
      "outputs": [
        {
          "output_type": "stream",
          "name": "stdout"
        }
      ]
    },
    {
      "cell_type": "code",
      "execution_count": null,
      "metadata": {
        "colab": {
          "base_uri": "https://localhost:8080/"
        },
        "id": "TXqmbLwCwciY",
        "outputId": "111f65c7-3db6-4a61-b248-7657f8aa125e"
      },
      "outputs": [
        {
          "output_type": "stream",
          "name": "stdout",
          "text": [
            "Looking in indexes: https://pypi.org/simple, https://us-python.pkg.dev/colab-wheels/public/simple/\n",
            "Requirement already satisfied: google in /usr/local/lib/python3.8/dist-packages (2.0.3)\n",
            "Requirement already satisfied: beautifulsoup4 in /usr/local/lib/python3.8/dist-packages (from google) (4.6.3)\n",
            "Looking in indexes: https://pypi.org/simple, https://us-python.pkg.dev/colab-wheels/public/simple/\n",
            "Collecting ngrok\n",
            "  Downloading ngrok-0.1.6.tar.gz (3.5 kB)\n",
            "Collecting ping\n",
            "  Downloading ping-0.2.tar.gz (10 kB)\n",
            "\u001b[33mWARNING: Discarding https://files.pythonhosted.org/packages/03/ac/9a3f332f8d7d27cd8929922b2e225842c1623760364b37fc79dc0f65e77d/ping-0.2.tar.gz#sha256=ecb32294c2af8ae075de4a3743f568db376480ad81c2e010a7f1ce1cee7b030f (from https://pypi.org/simple/ping/). Command errored out with exit status 1: python setup.py egg_info Check the logs for full command output.\u001b[0m\n",
            "  Downloading ping-0.1.tar.gz (10 kB)\n",
            "\u001b[33mWARNING: Discarding https://files.pythonhosted.org/packages/e6/e1/0d6a865e59fc27e13c0f39afea889f34a62b209046bfb863b62b614e5a3a/ping-0.1.tar.gz#sha256=e86c646487241be6e44262b182f0fbfdc2c00f2a4a0b7b3f0c499137957d81c1 (from https://pypi.org/simple/ping/). Command errored out with exit status 1: python setup.py egg_info Check the logs for full command output.\u001b[0m\n",
            "Collecting ngrok\n",
            "  Downloading ngrok-0.1.5.tar.gz (3.5 kB)\n",
            "  Downloading ngrok-0.1.4-py3-none-any.whl (4.3 kB)\n",
            "  Downloading ngrok-0.0.1.tar.gz (1.4 kB)\n",
            "Building wheels for collected packages: ngrok\n",
            "  Building wheel for ngrok (setup.py) ... \u001b[?25l\u001b[?25hdone\n",
            "  Created wheel for ngrok: filename=ngrok-0.0.1-py3-none-any.whl size=3060 sha256=e2bed55be9fb13911a5eccf94125a7003913da375c1a3bfc00a2c80ca101ad0d\n",
            "  Stored in directory: /root/.cache/pip/wheels/2d/80/ee/a358486c0fd53be1c951260bf4ec7f511fa8dccf05966f88e4\n",
            "Successfully built ngrok\n",
            "Installing collected packages: ngrok\n",
            "Successfully installed ngrok-0.0.1\n",
            "Looking in indexes: https://pypi.org/simple, https://us-python.pkg.dev/colab-wheels/public/simple/\n",
            "Requirement already satisfied: pyngrok in /usr/local/lib/python3.8/dist-packages (5.2.1)\n",
            "Requirement already satisfied: PyYAML in /usr/local/lib/python3.8/dist-packages (from pyngrok) (6.0)\n",
            "Looking in indexes: https://pypi.org/simple, https://us-python.pkg.dev/colab-wheels/public/simple/\n",
            "Collecting diffusers==0.8.0\n",
            "  Downloading diffusers-0.8.0-py3-none-any.whl (433 kB)\n",
            "\u001b[K     |████████████████████████████████| 433 kB 12.2 MB/s \n",
            "\u001b[?25hRequirement already satisfied: filelock in /usr/local/lib/python3.8/dist-packages (from diffusers==0.8.0) (3.8.2)\n",
            "Collecting huggingface-hub>=0.10.0\n",
            "  Downloading huggingface_hub-0.11.1-py3-none-any.whl (182 kB)\n",
            "\u001b[K     |████████████████████████████████| 182 kB 75.2 MB/s \n",
            "\u001b[?25hRequirement already satisfied: requests in /usr/local/lib/python3.8/dist-packages (from diffusers==0.8.0) (2.23.0)\n",
            "Requirement already satisfied: Pillow in /usr/local/lib/python3.8/dist-packages (from diffusers==0.8.0) (7.1.2)\n",
            "Requirement already satisfied: importlib-metadata in /usr/local/lib/python3.8/dist-packages (from diffusers==0.8.0) (5.1.0)\n",
            "Requirement already satisfied: numpy in /usr/local/lib/python3.8/dist-packages (from diffusers==0.8.0) (1.21.6)\n",
            "Requirement already satisfied: regex!=2019.12.17 in /usr/local/lib/python3.8/dist-packages (from diffusers==0.8.0) (2022.6.2)\n",
            "Requirement already satisfied: packaging>=20.9 in /usr/local/lib/python3.8/dist-packages (from huggingface-hub>=0.10.0->diffusers==0.8.0) (21.3)\n",
            "Requirement already satisfied: pyyaml>=5.1 in /usr/local/lib/python3.8/dist-packages (from huggingface-hub>=0.10.0->diffusers==0.8.0) (6.0)\n",
            "Requirement already satisfied: tqdm in /usr/local/lib/python3.8/dist-packages (from huggingface-hub>=0.10.0->diffusers==0.8.0) (4.64.1)\n",
            "Requirement already satisfied: typing-extensions>=3.7.4.3 in /usr/local/lib/python3.8/dist-packages (from huggingface-hub>=0.10.0->diffusers==0.8.0) (4.4.0)\n",
            "Requirement already satisfied: pyparsing!=3.0.5,>=2.0.2 in /usr/local/lib/python3.8/dist-packages (from packaging>=20.9->huggingface-hub>=0.10.0->diffusers==0.8.0) (3.0.9)\n",
            "Requirement already satisfied: zipp>=0.5 in /usr/local/lib/python3.8/dist-packages (from importlib-metadata->diffusers==0.8.0) (3.11.0)\n",
            "Requirement already satisfied: chardet<4,>=3.0.2 in /usr/local/lib/python3.8/dist-packages (from requests->diffusers==0.8.0) (3.0.4)\n",
            "Requirement already satisfied: urllib3!=1.25.0,!=1.25.1,<1.26,>=1.21.1 in /usr/local/lib/python3.8/dist-packages (from requests->diffusers==0.8.0) (1.24.3)\n",
            "Requirement already satisfied: certifi>=2017.4.17 in /usr/local/lib/python3.8/dist-packages (from requests->diffusers==0.8.0) (2022.12.7)\n",
            "Requirement already satisfied: idna<3,>=2.5 in /usr/local/lib/python3.8/dist-packages (from requests->diffusers==0.8.0) (2.10)\n",
            "Installing collected packages: huggingface-hub, diffusers\n",
            "Successfully installed diffusers-0.8.0 huggingface-hub-0.11.1\n",
            "Looking in indexes: https://pypi.org/simple, https://us-python.pkg.dev/colab-wheels/public/simple/\n",
            "Collecting transformers\n",
            "  Downloading transformers-4.25.1-py3-none-any.whl (5.8 MB)\n",
            "\u001b[K     |████████████████████████████████| 5.8 MB 14.3 MB/s \n",
            "\u001b[?25hRequirement already satisfied: pyyaml>=5.1 in /usr/local/lib/python3.8/dist-packages (from transformers) (6.0)\n",
            "Requirement already satisfied: huggingface-hub<1.0,>=0.10.0 in /usr/local/lib/python3.8/dist-packages (from transformers) (0.11.1)\n",
            "Collecting tokenizers!=0.11.3,<0.14,>=0.11.1\n",
            "  Downloading tokenizers-0.13.2-cp38-cp38-manylinux_2_17_x86_64.manylinux2014_x86_64.whl (7.6 MB)\n",
            "\u001b[K     |████████████████████████████████| 7.6 MB 54.1 MB/s \n",
            "\u001b[?25hRequirement already satisfied: regex!=2019.12.17 in /usr/local/lib/python3.8/dist-packages (from transformers) (2022.6.2)\n",
            "Requirement already satisfied: tqdm>=4.27 in /usr/local/lib/python3.8/dist-packages (from transformers) (4.64.1)\n",
            "Requirement already satisfied: packaging>=20.0 in /usr/local/lib/python3.8/dist-packages (from transformers) (21.3)\n",
            "Requirement already satisfied: filelock in /usr/local/lib/python3.8/dist-packages (from transformers) (3.8.2)\n",
            "Requirement already satisfied: numpy>=1.17 in /usr/local/lib/python3.8/dist-packages (from transformers) (1.21.6)\n",
            "Requirement already satisfied: requests in /usr/local/lib/python3.8/dist-packages (from transformers) (2.23.0)\n",
            "Requirement already satisfied: typing-extensions>=3.7.4.3 in /usr/local/lib/python3.8/dist-packages (from huggingface-hub<1.0,>=0.10.0->transformers) (4.4.0)\n",
            "Requirement already satisfied: pyparsing!=3.0.5,>=2.0.2 in /usr/local/lib/python3.8/dist-packages (from packaging>=20.0->transformers) (3.0.9)\n",
            "Requirement already satisfied: certifi>=2017.4.17 in /usr/local/lib/python3.8/dist-packages (from requests->transformers) (2022.12.7)\n",
            "Requirement already satisfied: idna<3,>=2.5 in /usr/local/lib/python3.8/dist-packages (from requests->transformers) (2.10)\n",
            "Requirement already satisfied: chardet<4,>=3.0.2 in /usr/local/lib/python3.8/dist-packages (from requests->transformers) (3.0.4)\n",
            "Requirement already satisfied: urllib3!=1.25.0,!=1.25.1,<1.26,>=1.21.1 in /usr/local/lib/python3.8/dist-packages (from requests->transformers) (1.24.3)\n",
            "Installing collected packages: tokenizers, transformers\n",
            "Successfully installed tokenizers-0.13.2 transformers-4.25.1\n"
          ]
        }
      ],
      "source": [
        "# Streamlit\n",
        "\n",
        "!pip install google\n",
        "!pip install ngrok\n",
        "!pip install pyngrok \n",
        "!pip install diffusers==0.8.0\n",
        "!pip install transformers"
      ]
    },
    {
      "cell_type": "code",
      "source": [
        "# Streamlit\n",
        "! pip install pyngrok\n",
        "! pip install streamlit -q\n",
        "# ! pip install --upgrade protobuf\n"
      ],
      "metadata": {
        "id": "c9YT1RSH3cwU",
        "outputId": "dd50a29d-2b99-4f5c-ae70-0b2056817176",
        "colab": {
          "base_uri": "https://localhost:8080/"
        }
      },
      "execution_count": null,
      "outputs": [
        {
          "output_type": "stream",
          "name": "stdout",
          "text": [
            "Looking in indexes: https://pypi.org/simple, https://us-python.pkg.dev/colab-wheels/public/simple/\n",
            "Requirement already satisfied: pyngrok in /usr/local/lib/python3.8/dist-packages (5.2.1)\n",
            "Requirement already satisfied: PyYAML in /usr/local/lib/python3.8/dist-packages (from pyngrok) (6.0)\n"
          ]
        }
      ]
    },
    {
      "cell_type": "code",
      "source": [
        "# Stablediffusion\n",
        "%%writefile stablediffusion.py\n",
        "\n",
        "\n",
        "#import os\n",
        "from PIL import Image, ImageDraw\n",
        "#import cv2\n",
        "#import numpy as np\n",
        "#from IPython.display import HTML\n",
        "#from base64 import b64encode\n",
        "#import streamlit as st\n",
        "\n",
        "import torch\n",
        "from torch import autocast\n",
        "from torch.nn import functional as F\n",
        "from diffusers import StableDiffusionPipeline, AutoencoderKL\n",
        "from diffusers import UNet2DConditionModel, PNDMScheduler, LMSDiscreteScheduler\n",
        "from diffusers.schedulers.scheduling_ddim import DDIMScheduler\n",
        "from transformers import CLIPTextModel, CLIPTokenizer\n",
        "#from tqdm.auto import tqdm\n",
        "#from huggingface_hub import notebook_login\n",
        "#from google.colab import output\n",
        "\n",
        "device = 'cuda'\n",
        "\n",
        "\n",
        "\n",
        "\n",
        "class stable():\n",
        "  pipe = StableDiffusionPipeline.from_pretrained(\"CompVis/stable-diffusion-v1-4\", revision='fp16',torch_dtype=torch.float16, use_auth_token=\"#Enter your hugging face token here\")\n",
        "  pipe = pipe.to(device)\n",
        "\n",
        "  def image_grid(self,imgs, rows, cols):\n",
        "      assert len(imgs) == rows*cols\n",
        "\n",
        "      w, h = imgs[0].size\n",
        "      grid = Image.new('RGB', size=(cols*w, rows*h))\n",
        "      grid_w, grid_h = grid.size\n",
        "      \n",
        "      for i, img in enumerate(imgs):\n",
        "          grid.paste(img, box=(i%cols*w, i//cols*h))\n",
        "      return grid\n",
        "\n",
        "  def prompt(self,p):\n",
        "    prompt = p\n",
        "    with autocast(device):\n",
        "      image = self.pipe(prompt)[0]\n",
        "    m=self.image_grid(image,1,1)\n",
        "    st.image(image=m)\n",
        "    "
      ],
      "metadata": {
        "colab": {
          "base_uri": "https://localhost:8080/"
        },
        "id": "iCsuTXVvu3A8",
        "outputId": "cee7ce1c-e64e-478d-a8ba-56eed51a07b8"
      },
      "execution_count": null,
      "outputs": [
        {
          "output_type": "stream",
          "name": "stdout",
          "text": [
            "Overwriting stablediffusion.py\n"
          ]
        }
      ]
    },
    {
      "cell_type": "code",
      "source": [
        "# Streamlit\n",
        "%%writefile app.py\n",
        "import streamlit as st\n",
        "from stablediffusion import stable\n",
        "s=stable()\n",
        "st.title('Text to image')\n",
        "p=st.text_input('Enter your text here')\n",
        "st.button(\"Generate\",on_click=s.prompt(p))\n"
      ],
      "metadata": {
        "colab": {
          "base_uri": "https://localhost:8080/"
        },
        "id": "hMfqJpfzjhbN",
        "outputId": "9295c01e-c806-470f-833b-f28ccdb1247d"
      },
      "execution_count": null,
      "outputs": [
        {
          "output_type": "stream",
          "name": "stdout",
          "text": [
            "Overwriting app.py\n"
          ]
        }
      ]
    },
    {
      "cell_type": "code",
      "source": [],
      "metadata": {
        "id": "66VLrM0Wharf"
      },
      "execution_count": null,
      "outputs": []
    },
    {
      "cell_type": "code",
      "source": [
        "# Streamlit\n",
        "from pyngrok import ngrok\n"
      ],
      "metadata": {
        "id": "8Evg4DZ5jWaS"
      },
      "execution_count": null,
      "outputs": []
    },
    {
      "cell_type": "code",
      "source": [
        "# Streamlit\n",
        "ngrok.set_auth_token(\"#Enter your ngrok authtoken here\") #ngrok.com"
      ],
      "metadata": {
        "id": "ce1MG2IXjZqW"
      },
      "execution_count": null,
      "outputs": []
    },
    {
      "cell_type": "code",
      "source": [
        "# Streamlit\n",
        "!nohup streamlit run app.py --server.port 80 &\n",
        "url = ngrok.connect(port = '80')\n",
        "print(url)\n"
      ],
      "metadata": {
        "colab": {
          "base_uri": "https://localhost:8080/"
        },
        "id": "tTi8AVjKjcWO",
        "outputId": "a21cd3f1-0b0b-40a1-9767-1285968da6d0"
      },
      "execution_count": null,
      "outputs": [
        {
          "output_type": "stream",
          "name": "stdout",
          "text": [
            "nohup: appending output to 'nohup.out'\n",
            "NgrokTunnel: \"http://d739-35-204-129-11.ngrok.io\" -> \"http://localhost:80\"\n"
          ]
        }
      ]
    },
    {
      "cell_type": "code",
      "source": [
        "\n",
        "# from pyngrok import ngrok\n",
        "# tunnels = ngrok.get_tunnels()\n",
        "# tunnels\n",
        "# try:\n",
        "#    ngrok_process.proc.wait()\n",
        "# except KeyboardInterrupt:\n",
        "#     print(\" Shutting down server.\")\n",
        "\n",
        "\n",
        "# ngrok.kill() if any issues occur ,try to run this line to troubleshoot"
      ],
      "metadata": {
        "id": "s-2wnr0flVnP"
      },
      "execution_count": null,
      "outputs": []
    },
    {
      "cell_type": "code",
      "source": [
        "!streamlit run app.py & npx localtunnel --port 80"
      ],
      "metadata": {
        "colab": {
          "base_uri": "https://localhost:8080/"
        },
        "id": "Cn9b3t_An-3d",
        "outputId": "a42993b6-fad9-47b6-a26a-95be70ea90e6"
      },
      "execution_count": null,
      "outputs": [
        {
          "output_type": "stream",
          "name": "stdout",
          "text": [
            "\n",
            "Collecting usage statistics. To deactivate, set browser.gatherUsageStats to False.\n",
            "\u001b[0m\n",
            "\u001b[K\u001b[?25hnpx: installed 22 in 2.409s\n",
            "\u001b[0m\n",
            "\u001b[34m\u001b[1m  You can now view your Streamlit app in your browser.\u001b[0m\n",
            "\u001b[0m\n",
            "\u001b[34m  Network URL: \u001b[0m\u001b[1mhttp://172.28.0.12:8501\u001b[0m\n",
            "\u001b[34m  External URL: \u001b[0m\u001b[1mhttp://35.204.129.11:8501\u001b[0m\n",
            "\u001b[0m\n",
            "your url is: https://tidy-crews-follow-35-204-129-11.loca.lt\n",
            "\u001b[34m  Stopping...\u001b[0m\n",
            "^C\n"
          ]
        }
      ]
    }
  ]
}
